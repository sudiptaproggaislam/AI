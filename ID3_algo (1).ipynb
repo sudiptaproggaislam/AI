{
 "cells": [
  {
   "cell_type": "code",
   "execution_count": 3,
   "id": "ea1f7478",
   "metadata": {},
   "outputs": [
    {
     "name": "stdout",
     "output_type": "stream",
     "text": [
      "\n",
      " Given Buy Computer Data Set:\n",
      "\n",
      "       Age    Education Income Marital_Status  Buy_Computer\n",
      "0   36-55     Master's   High         Single             1\n",
      "1   18-35  High School    Low         Single             0\n",
      "2   36-55     Master's    Low         Single             1\n",
      "3   18-35   Bachelor's   High         Single             0\n",
      "4     <18  High School    Low         Single             1\n",
      "5   18-35   Bachelor's   High        Married             0\n",
      "6   36-55   Bachelor's    Low        Married             0\n",
      "7     >55   Bachelor's   High         Single             1\n",
      "8   36-55     Master's    Low        Married             0\n",
      "9     >55     Master's    Low        Married             1\n",
      "10  36-55     Master's   High         Single             1\n",
      "11    >55     Master's   High         Single             1\n",
      "12    <18  High School   High         Single             0\n",
      "13  36-55     Master's    Low         Single             1\n",
      "14  36-55  High School    Low         Single             1\n",
      "15    <18  High School    Low        Married             1\n",
      "16  18-35   Bachelor's   High        Married             0\n",
      "17    >55  High School   High        Married             1\n",
      "18    >55   Bachelor's    Low         Single             1\n",
      "19  36-55  High School   High        Married             0\n",
      "{'Age': {'18-35': 0,\n",
      "         '36-55': {'Marital_Status': {'Married': 0, 'Single': 1}},\n",
      "         '<18': {'Income': {'High': 0, 'Low': 1}},\n",
      "         '>55': 1}}\n"
     ]
    }
   ],
   "source": [
    "def find_entropy(df):\n",
    "    Class = df.keys()[-1]   #To make the code generic, changing target variable class name\n",
    "    entropy = 0\n",
    "    values = df[Class].unique()\n",
    "    for value in values:\n",
    "        fraction = df[Class].value_counts()[value]/len(df[Class])\n",
    "        entropy += -fraction*np.log2(fraction)\n",
    "    return entropy\n",
    "\n",
    "def find_entropy_attribute(df,attribute):\n",
    "    Class = df.keys()[-1]   #To make the code generic, changing target variable class name\n",
    "    target_variables = df[Class].unique()  #This gives all 'Yes' and 'No'\n",
    "    variables = df[attribute].unique()    #This gives different features in that attribute (like 'Hot','Cold' in Temperature)\n",
    "    entropy2 = 0\n",
    "    for variable in variables:\n",
    "        entropy = 0\n",
    "        for target_variable in target_variables:\n",
    "            num = len(df[attribute][df[attribute]==variable][df[Class]==target_variable])\n",
    "            den = len(df[attribute][df[attribute]==variable])\n",
    "            fraction = num/(den+eps)\n",
    "            entropy += -fraction*log(fraction+eps)\n",
    "        fraction2 = den/len(df)\n",
    "        entropy2 += -fraction2*entropy\n",
    "    return abs(entropy2)\n",
    "\n",
    "def find_winner(df):\n",
    "    Entropy_att = []\n",
    "    IG = []\n",
    "    for key in df.keys()[:-1]:  #Entropy_att.append(find_entropy_attribute(df,key))\n",
    "        IG.append(find_entropy(df)-find_entropy_attribute(df,key))\n",
    "    return df.keys()[:-1][np.argmax(IG)]\n",
    "\n",
    "def get_subtable(df, node, value):\n",
    "    return df[df[node] == value].reset_index(drop=True)\n",
    "\n",
    "def buildTree(df,tree=None): \n",
    "    Class = df.keys()[-1]   #To make the code generic, changing target variable class name  #Here we build our decision tree  #Get attribute with maximum information gain\n",
    "    node = find_winner(df)  #Get distinct value of that attribute e.g Salary is node and Low,Med and High are values\n",
    "    attValue = np.unique(df[node])  #Create an empty dictionary to create tree    \n",
    "    if tree is None:                    \n",
    "        tree={}\n",
    "        tree[node] = {} #We make loop to construct a tree by calling this function recursively. #In this we check if the subset is pure and stops if it is pure. \n",
    "    for value in attValue:\n",
    "        subtable = get_subtable(df,node,value)\n",
    "        clValue,counts = np.unique(subtable['Buy_Computer'],return_counts=True)                        \n",
    "        if len(counts)==1:  #Checking purity of subset\n",
    "            tree[node][value] = clValue[0]                                                    \n",
    "        else:        \n",
    "            tree[node][value] = buildTree(subtable) #Calling the function recursively               \n",
    "    return tree\n",
    "\n",
    "\n",
    "import pandas as pd\n",
    "import numpy as np\n",
    "eps = np.finfo(float).eps\n",
    "from numpy import log2 as log\n",
    "df = pd.read_csv('buy_computer.csv')\n",
    "print(\"\\n Given Buy Computer Data Set:\\n\\n\",df)\n",
    "tree= buildTree(df)\n",
    "import pprint\n",
    "pprint.pprint(tree)\n"
   ]
  },
  {
   "cell_type": "code",
   "execution_count": 9,
   "id": "765fd371",
   "metadata": {},
   "outputs": [
    {
     "name": "stdout",
     "output_type": "stream",
     "text": [
      "Age\n",
      "dict_keys(['18-35', '36-55', '<18', '>55'])\n",
      "36-55\n",
      "Marital_Status\n",
      "dict_keys(['Married', 'Single'])\n",
      "Married\n",
      "0\n"
     ]
    }
   ],
   "source": [
    "test={'Age':'36-55','Education':'High School','Income':'Low','Marital_Status':'Married'}\n",
    "def func(test, tree, default=None):\n",
    "    attribute = next(iter(tree)) \n",
    "    print(attribute) \n",
    "    if test[attribute] in tree[attribute].keys():\n",
    "        print(tree[attribute].keys())\n",
    "        print(test[attribute])\n",
    "        result = tree[attribute][test[attribute]]\n",
    "        if isinstance(result, dict):\n",
    "            return func(test, result)\n",
    "        else:\n",
    "            return result\n",
    "    else:\n",
    "        return default\n",
    "ans = func(test, tree)\n",
    "print(ans)"
   ]
  },
  {
   "cell_type": "code",
   "execution_count": null,
   "id": "6f17ae00",
   "metadata": {},
   "outputs": [],
   "source": []
  }
 ],
 "metadata": {
  "kernelspec": {
   "display_name": "Python 3 (ipykernel)",
   "language": "python",
   "name": "python3"
  },
  "language_info": {
   "codemirror_mode": {
    "name": "ipython",
    "version": 3
   },
   "file_extension": ".py",
   "mimetype": "text/x-python",
   "name": "python",
   "nbconvert_exporter": "python",
   "pygments_lexer": "ipython3",
   "version": "3.10.8"
  }
 },
 "nbformat": 4,
 "nbformat_minor": 5
}
