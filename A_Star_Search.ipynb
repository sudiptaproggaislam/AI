{
  "nbformat": 4,
  "nbformat_minor": 0,
  "metadata": {
    "colab": {
      "provenance": [],
      "include_colab_link": true
    },
    "kernelspec": {
      "name": "python3",
      "display_name": "Python 3"
    },
    "language_info": {
      "name": "python"
    }
  },
  "cells": [
    {
      "cell_type": "markdown",
      "metadata": {
        "id": "view-in-github",
        "colab_type": "text"
      },
      "source": [
        "<a href=\"https://colab.research.google.com/github/sudiptaproggaislam/AI/blob/master/A_Star_Search.ipynb\" target=\"_parent\"><img src=\"https://colab.research.google.com/assets/colab-badge.svg\" alt=\"Open In Colab\"/></a>"
      ]
    },
    {
      "cell_type": "code",
      "execution_count": null,
      "metadata": {
        "id": "UzgLvNPmSzqr"
      },
      "outputs": [],
      "source": [
        "from collections import defaultdict\n",
        "from collections import OrderedDict\n",
        "from queue import PriorityQueue"
      ]
    },
    {
      "cell_type": "code",
      "source": [
        "class Graph:\n",
        "  def __init__(self,directed):\n",
        "    self.graph = defaultdict(dict)\n",
        "    self.directed = directed\n",
        "    self.parent = defaultdict(dict)\n",
        "    self.heuristic = defaultdict(dict)\n",
        "\n",
        "  def add_edge(self,u,v,weight):\n",
        "    if self.directed:\n",
        "      #value = (weight,v)\n",
        "      self.graph[u][v] = (weight)\n",
        "    else:\n",
        "      #value = (weight,v)\n",
        "      self.graph[u][v] = (weight)\n",
        "      #value = (weight,u)\n",
        "      self.graph[v][u] = (weight)\n",
        "\n",
        "  def add_heuristic(self,node,value):\n",
        "    self.heuristic[node] = (value)\n",
        "\n",
        "\n",
        "  def ucs(self, current_node, goal_node):\n",
        "    visited = []\n",
        "    ara = []\n",
        "    start_node = current_node\n",
        "    h_value = self.heuristic[current_node]\n",
        "    e_function = 0 + h_value\n",
        "    queue = PriorityQueue()\n",
        "    queue.put((e_function,current_node,0))\n",
        "\n",
        "    while not queue.empty():\n",
        "      item = queue.get()\n",
        "      current_node = item[1]\n",
        "      print(current_node,item[2])\n",
        "\n",
        "      if current_node == goal_node:\n",
        "        cost = item[2]\n",
        "        cost1 = cost\n",
        "        ara.append(goal_node)\n",
        "        print(self.parent)\n",
        "        while start_node != goal_node:\n",
        "          for key,value in self.parent.items():\n",
        "            if goal_node in self.graph[key] and cost1==self.parent[key][goal_node]:\n",
        "              cost1 = cost1 - self.graph[key][goal_node]\n",
        "              ara.append(key)\n",
        "              goal_node = key\n",
        "\n",
        "        queue.queue.clear()\n",
        "      else:\n",
        "        if current_node in visited:\n",
        "          continue\n",
        "\n",
        "        #print(current_node, end=\" \")\n",
        "        visited.append(current_node)\n",
        "        \n",
        "        for neighbour in self.graph[current_node]:\n",
        "          val = self.graph[current_node][neighbour]+item[2]\n",
        "          self.parent[current_node][neighbour] = (val)\n",
        "          queue.put((self.heuristic[neighbour]+val,neighbour,val))\n",
        "    print(\"Optimal Cost: \",cost)\n",
        "    print(\"Optimal path: \", end=\" \")\n",
        "    print(ara[::-1],end=\" \")\n",
        "    "
      ],
      "metadata": {
        "id": "ZpU_M0hKTPP9"
      },
      "execution_count": null,
      "outputs": []
    },
    {
      "cell_type": "code",
      "source": [
        "g = Graph(True)"
      ],
      "metadata": {
        "id": "5GtVxHCsTSN8"
      },
      "execution_count": null,
      "outputs": []
    },
    {
      "cell_type": "code",
      "source": [
        "#g.graph = defaultdict(list)\n",
        "#g.add_edge('S', 'A', 5)\n",
        "#g.add_edge('S', 'B', 2)\n",
        "#g.add_edge('S', 'C', 4)\n",
        "#g.add_edge('A', 'D', 9)\n",
        "#g.add_edge('A', 'E', 4)\n",
        "#g.add_edge('D', 'H', 7)\n",
        "#g.add_edge('E', 'G', 6)\n",
        "#g.add_edge('B', 'G', 6)\n",
        "#g.add_edge('C', 'F', 2)\n",
        "#g.add_edge('F', 'G', 1)\n",
        "infinity = 100000009\n",
        "\n",
        "g.add_heuristic('S',8)\n",
        "g.add_heuristic('A',8)\n",
        "g.add_heuristic('B',4)\n",
        "g.add_heuristic('C',3)\n",
        "g.add_heuristic('D',infinity)\n",
        "g.add_heuristic('E',infinity)\n",
        "g.add_heuristic('G',0)\n",
        "\n",
        "\n",
        "g.add_edge('S','A',1)\n",
        "g.add_edge('S','B',5)\n",
        "g.add_edge('S','C',8)\n",
        "g.add_edge('A','D',3)\n",
        "g.add_edge('A','E',7)\n",
        "g.add_edge('A','G',9)\n",
        "g.add_edge('B','G',4)\n",
        "g.add_edge('C','G',5)\n",
        "\n",
        "\n"
      ],
      "metadata": {
        "id": "8NkY_xT9TVmW"
      },
      "execution_count": null,
      "outputs": []
    },
    {
      "cell_type": "code",
      "source": [
        "print(g.graph)\n",
        "print(g.heuristic)"
      ],
      "metadata": {
        "colab": {
          "base_uri": "https://localhost:8080/"
        },
        "id": "RSe68DyoTa3k",
        "outputId": "adee55dc-9384-468f-cfd1-f2b07efe81d1"
      },
      "execution_count": null,
      "outputs": [
        {
          "output_type": "stream",
          "name": "stdout",
          "text": [
            "defaultdict(<class 'dict'>, {'S': {'A': 1, 'B': 5, 'C': 8}, 'A': {'D': 3, 'E': 7, 'G': 9}, 'B': {'G': 4}, 'C': {'G': 5}})\n",
            "defaultdict(<class 'dict'>, {'S': 8, 'A': 8, 'B': 4, 'C': 3, 'D': 100000009, 'E': 100000009, 'G': 0})\n"
          ]
        }
      ]
    },
    {
      "cell_type": "code",
      "source": [
        "g.ucs('S','G')"
      ],
      "metadata": {
        "colab": {
          "base_uri": "https://localhost:8080/"
        },
        "id": "xvBGaX9-TcPn",
        "outputId": "c412235e-e3f7-4e67-dc35-6256a8aeee58"
      },
      "execution_count": null,
      "outputs": [
        {
          "output_type": "stream",
          "name": "stdout",
          "text": [
            "S 0\n",
            "A 1\n",
            "B 5\n",
            "G 9\n",
            "defaultdict(<class 'dict'>, {'S': {'A': 1, 'B': 5, 'C': 8}, 'A': {'D': 4, 'E': 8, 'G': 10}, 'B': {'G': 9}})\n",
            "Optimal Cost:  9\n",
            "Optimal path:  ['S', 'B', 'G'] "
          ]
        }
      ]
    },
    {
      "cell_type": "code",
      "source": [
        "q = [1,2,3,4,5]\n",
        "print(q.pop(2))"
      ],
      "metadata": {
        "colab": {
          "base_uri": "https://localhost:8080/"
        },
        "id": "85MUny5KUrJM",
        "outputId": "8938bfd8-3463-4b43-a53b-e6bbe2a84dbd"
      },
      "execution_count": null,
      "outputs": [
        {
          "output_type": "stream",
          "name": "stdout",
          "text": [
            "3\n"
          ]
        }
      ]
    },
    {
      "cell_type": "code",
      "source": [
        "print(q)"
      ],
      "metadata": {
        "colab": {
          "base_uri": "https://localhost:8080/"
        },
        "id": "x_UkjYieUyhP",
        "outputId": "bf23e6de-8773-4d87-f2cb-e7f15b6c1434"
      },
      "execution_count": null,
      "outputs": [
        {
          "output_type": "stream",
          "name": "stdout",
          "text": [
            "[1, 2, 4, 5]\n"
          ]
        }
      ]
    }
  ]
}